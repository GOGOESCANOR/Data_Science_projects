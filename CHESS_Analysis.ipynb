{
 "cells": [
  {
   "cell_type": "code",
   "execution_count": 1,
   "id": "9a00b69d",
   "metadata": {},
   "outputs": [],
   "source": [
    "# imports needed in analysis process\n",
    "import pandas as pd\n",
    "import seaborn as sns\n",
    "import matplotlib.pyplot as plt\n",
    "import numpy as np"
   ]
  },
  {
   "cell_type": "code",
   "execution_count": 2,
   "id": "2024a68b",
   "metadata": {},
   "outputs": [],
   "source": [
    "# Reading the csv of online chess games\n",
    "\n",
    "games = pd.read_csv(\"games.csv\")"
   ]
  },
  {
   "cell_type": "code",
   "execution_count": 3,
   "id": "57b9ee6d",
   "metadata": {},
   "outputs": [
    {
     "name": "stdout",
     "output_type": "stream",
     "text": [
      "(20058, 16)\n"
     ]
    }
   ],
   "source": [
    "# Dataset shape\n",
    "\n",
    "shape_before_cleaning = games.shape\n",
    "print(shape_before_cleaning)"
   ]
  },
  {
   "cell_type": "markdown",
   "id": "7b5d74a6",
   "metadata": {},
   "source": [
    "# DATA CLEANING:"
   ]
  },
  {
   "cell_type": "code",
   "execution_count": 4,
   "id": "fb5615ce",
   "metadata": {},
   "outputs": [
    {
     "data": {
      "text/plain": [
       "Index(['id', 'rated', 'created_at', 'last_move_at', 'turns', 'victory_status',\n",
       "       'winner', 'increment_code', 'white_id', 'white_rating', 'black_id',\n",
       "       'black_rating', 'moves', 'opening_eco', 'opening_name', 'opening_ply'],\n",
       "      dtype='object')"
      ]
     },
     "execution_count": 4,
     "metadata": {},
     "output_type": "execute_result"
    }
   ],
   "source": [
    "games.columns"
   ]
  },
  {
   "cell_type": "markdown",
   "id": "89d030ea",
   "metadata": {},
   "source": [
    "(id) column shoudl be dropped becuase it will not be used and\n",
    "will be an obstacle in droppping duplicate steps"
   ]
  },
  {
   "cell_type": "code",
   "execution_count": null,
   "id": "75adf1be",
   "metadata": {},
   "outputs": [],
   "source": []
  },
  {
   "cell_type": "code",
   "execution_count": 5,
   "id": "6cfff1c0",
   "metadata": {},
   "outputs": [
    {
     "name": "stdout",
     "output_type": "stream",
     "text": [
      "No. of duplicate 429 \n"
     ]
    }
   ],
   "source": [
    "# Dropping game's id column-\n",
    "\n",
    "games = games.drop(['id'], axis = 1)\n",
    "\n",
    "# Searching for duplicated values and droppping them -\n",
    "\n",
    "print(f\"No. of duplicate {games.duplicated().sum()} \")"
   ]
  },
  {
   "cell_type": "code",
   "execution_count": null,
   "id": "9990df33",
   "metadata": {},
   "outputs": [],
   "source": []
  },
  {
   "cell_type": "code",
   "execution_count": 6,
   "id": "964a1775",
   "metadata": {},
   "outputs": [
    {
     "data": {
      "text/plain": [
       "rated             0\n",
       "created_at        0\n",
       "last_move_at      0\n",
       "turns             0\n",
       "victory_status    0\n",
       "winner            0\n",
       "increment_code    0\n",
       "white_id          0\n",
       "white_rating      0\n",
       "black_id          0\n",
       "black_rating      0\n",
       "moves             0\n",
       "opening_eco       0\n",
       "opening_name      0\n",
       "opening_ply       0\n",
       "dtype: int64"
      ]
     },
     "execution_count": 6,
     "metadata": {},
     "output_type": "execute_result"
    }
   ],
   "source": [
    "# Checking for null values to start cleaning data-\n",
    "\n",
    "games.isna().sum()"
   ]
  },
  {
   "cell_type": "code",
   "execution_count": null,
   "id": "abc31cd2",
   "metadata": {},
   "outputs": [],
   "source": []
  },
  {
   "cell_type": "markdown",
   "id": "811f46ba",
   "metadata": {},
   "source": [
    "Outliers in our dataset can be in a games which have huge gap\n",
    "between player levels which is unfair"
   ]
  },
  {
   "cell_type": "code",
   "execution_count": 7,
   "id": "25736045",
   "metadata": {},
   "outputs": [],
   "source": [
    "\"\"\" Creating columns of rating difference t          hat outliers will \n",
    "be detected according to it   \"\"\"\n",
    "\n",
    "games[\"rating_difference\"] = abs(games['white_rating']- games['black_rating'])"
   ]
  },
  {
   "cell_type": "code",
   "execution_count": null,
   "id": "ba34d16f",
   "metadata": {},
   "outputs": [],
   "source": []
  },
  {
   "cell_type": "code",
   "execution_count": 8,
   "id": "205fcc18",
   "metadata": {},
   "outputs": [],
   "source": [
    "\n",
    "#Function of outliers detiction\n",
    "def find_outliers_IQR(df):\n",
    " q1=df.quantile(0.25)\n",
    " q3=df.quantile(0.75)\n",
    " IQR=q3-q1\n",
    " outliers = df[((df<(q1-1.5*IQR)) | (df>(q3+1.5*IQR)))]\n",
    " return outliers"
   ]
  },
  {
   "cell_type": "code",
   "execution_count": 9,
   "id": "bc7c0cc6",
   "metadata": {},
   "outputs": [
    {
     "name": "stdout",
     "output_type": "stream",
     "text": [
      "number of outliers: 969\n",
      "max outlier value: 1605\n",
      "min outlier value: 536\n",
      "7        695\n",
      "12       555\n",
      "20       582\n",
      "26       746\n",
      "35       856\n",
      "        ... \n",
      "19749    564\n",
      "19859    571\n",
      "19874    567\n",
      "19921    771\n",
      "20012    768\n",
      "Name: rating_difference, Length: 969, dtype: int64\n"
     ]
    }
   ],
   "source": [
    "\n",
    "outliers = find_outliers_IQR(games[\"rating_difference\"])\n",
    "print(\"number of outliers: \"+ str(len(outliers)))\n",
    "print(\"max outlier value: \"+ str(outliers.max()))\n",
    "print(\"min outlier value: \"+ str(outliers.min()))\n",
    "print(outliers)\n",
    "#Converting outliers series to a dataframe to drop rows with the\n",
    "#same id from the main dataset\n",
    "outliers =outliers.reset_index()\n"
   ]
  },
  {
   "cell_type": "markdown",
   "id": "4f1255aa",
   "metadata": {},
   "source": [
    "There are 969 matches that have huge gap btw players level"
   ]
  },
  {
   "cell_type": "code",
   "execution_count": 10,
   "id": "71f80d72",
   "metadata": {},
   "outputs": [],
   "source": [
    "# Removing outliers \n",
    "\n",
    "games = games[~games.index.isin(outliers['index'])]"
   ]
  },
  {
   "cell_type": "code",
   "execution_count": 11,
   "id": "f73fa902",
   "metadata": {},
   "outputs": [
    {
     "data": {
      "text/html": [
       "<div>\n",
       "<style scoped>\n",
       "    .dataframe tbody tr th:only-of-type {\n",
       "        vertical-align: middle;\n",
       "    }\n",
       "\n",
       "    .dataframe tbody tr th {\n",
       "        vertical-align: top;\n",
       "    }\n",
       "\n",
       "    .dataframe thead th {\n",
       "        text-align: right;\n",
       "    }\n",
       "</style>\n",
       "<table border=\"1\" class=\"dataframe\">\n",
       "  <thead>\n",
       "    <tr style=\"text-align: right;\">\n",
       "      <th></th>\n",
       "      <th>rated</th>\n",
       "      <th>created_at</th>\n",
       "      <th>last_move_at</th>\n",
       "      <th>turns</th>\n",
       "      <th>victory_status</th>\n",
       "      <th>winner</th>\n",
       "      <th>increment_code</th>\n",
       "      <th>white_id</th>\n",
       "      <th>white_rating</th>\n",
       "      <th>black_id</th>\n",
       "      <th>black_rating</th>\n",
       "      <th>moves</th>\n",
       "      <th>opening_eco</th>\n",
       "      <th>opening_name</th>\n",
       "      <th>opening_ply</th>\n",
       "    </tr>\n",
       "  </thead>\n",
       "  <tbody>\n",
       "    <tr>\n",
       "      <th>0</th>\n",
       "      <td>False</td>\n",
       "      <td>1.504210e+12</td>\n",
       "      <td>1.504210e+12</td>\n",
       "      <td>13</td>\n",
       "      <td>outoftime</td>\n",
       "      <td>white</td>\n",
       "      <td>15+2</td>\n",
       "      <td>bourgris</td>\n",
       "      <td>1500</td>\n",
       "      <td>a-00</td>\n",
       "      <td>1191</td>\n",
       "      <td>d4 d5 c4 c6 cxd5 e6 dxe6 fxe6 Nf3 Bb4+ Nc3 Ba5...</td>\n",
       "      <td>D10</td>\n",
       "      <td>Slav Defense: Exchange Variation</td>\n",
       "      <td>5</td>\n",
       "    </tr>\n",
       "    <tr>\n",
       "      <th>1</th>\n",
       "      <td>True</td>\n",
       "      <td>1.504130e+12</td>\n",
       "      <td>1.504130e+12</td>\n",
       "      <td>16</td>\n",
       "      <td>resign</td>\n",
       "      <td>black</td>\n",
       "      <td>5+10</td>\n",
       "      <td>a-00</td>\n",
       "      <td>1322</td>\n",
       "      <td>skinnerua</td>\n",
       "      <td>1261</td>\n",
       "      <td>d4 Nc6 e4 e5 f4 f6 dxe5 fxe5 fxe5 Nxe5 Qd4 Nc6...</td>\n",
       "      <td>B00</td>\n",
       "      <td>Nimzowitsch Defense: Kennedy Variation</td>\n",
       "      <td>4</td>\n",
       "    </tr>\n",
       "    <tr>\n",
       "      <th>2</th>\n",
       "      <td>True</td>\n",
       "      <td>1.504130e+12</td>\n",
       "      <td>1.504130e+12</td>\n",
       "      <td>61</td>\n",
       "      <td>mate</td>\n",
       "      <td>white</td>\n",
       "      <td>5+10</td>\n",
       "      <td>ischia</td>\n",
       "      <td>1496</td>\n",
       "      <td>a-00</td>\n",
       "      <td>1500</td>\n",
       "      <td>e4 e5 d3 d6 Be3 c6 Be2 b5 Nd2 a5 a4 c5 axb5 Nc...</td>\n",
       "      <td>C20</td>\n",
       "      <td>King's Pawn Game: Leonardis Variation</td>\n",
       "      <td>3</td>\n",
       "    </tr>\n",
       "    <tr>\n",
       "      <th>3</th>\n",
       "      <td>True</td>\n",
       "      <td>1.504110e+12</td>\n",
       "      <td>1.504110e+12</td>\n",
       "      <td>61</td>\n",
       "      <td>mate</td>\n",
       "      <td>white</td>\n",
       "      <td>20+0</td>\n",
       "      <td>daniamurashov</td>\n",
       "      <td>1439</td>\n",
       "      <td>adivanov2009</td>\n",
       "      <td>1454</td>\n",
       "      <td>d4 d5 Nf3 Bf5 Nc3 Nf6 Bf4 Ng4 e3 Nc6 Be2 Qd7 O...</td>\n",
       "      <td>D02</td>\n",
       "      <td>Queen's Pawn Game: Zukertort Variation</td>\n",
       "      <td>3</td>\n",
       "    </tr>\n",
       "    <tr>\n",
       "      <th>4</th>\n",
       "      <td>True</td>\n",
       "      <td>1.504030e+12</td>\n",
       "      <td>1.504030e+12</td>\n",
       "      <td>95</td>\n",
       "      <td>mate</td>\n",
       "      <td>white</td>\n",
       "      <td>30+3</td>\n",
       "      <td>nik221107</td>\n",
       "      <td>1523</td>\n",
       "      <td>adivanov2009</td>\n",
       "      <td>1469</td>\n",
       "      <td>e4 e5 Nf3 d6 d4 Nc6 d5 Nb4 a3 Na6 Nc3 Be7 b4 N...</td>\n",
       "      <td>C41</td>\n",
       "      <td>Philidor Defense</td>\n",
       "      <td>5</td>\n",
       "    </tr>\n",
       "    <tr>\n",
       "      <th>...</th>\n",
       "      <td>...</td>\n",
       "      <td>...</td>\n",
       "      <td>...</td>\n",
       "      <td>...</td>\n",
       "      <td>...</td>\n",
       "      <td>...</td>\n",
       "      <td>...</td>\n",
       "      <td>...</td>\n",
       "      <td>...</td>\n",
       "      <td>...</td>\n",
       "      <td>...</td>\n",
       "      <td>...</td>\n",
       "      <td>...</td>\n",
       "      <td>...</td>\n",
       "      <td>...</td>\n",
       "    </tr>\n",
       "    <tr>\n",
       "      <th>20053</th>\n",
       "      <td>True</td>\n",
       "      <td>1.499791e+12</td>\n",
       "      <td>1.499791e+12</td>\n",
       "      <td>24</td>\n",
       "      <td>resign</td>\n",
       "      <td>white</td>\n",
       "      <td>10+10</td>\n",
       "      <td>belcolt</td>\n",
       "      <td>1691</td>\n",
       "      <td>jamboger</td>\n",
       "      <td>1220</td>\n",
       "      <td>d4 f5 e3 e6 Nf3 Nf6 Nc3 b6 Be2 Bb7 O-O Be7 Ne5...</td>\n",
       "      <td>A80</td>\n",
       "      <td>Dutch Defense</td>\n",
       "      <td>2</td>\n",
       "    </tr>\n",
       "    <tr>\n",
       "      <th>20054</th>\n",
       "      <td>True</td>\n",
       "      <td>1.499698e+12</td>\n",
       "      <td>1.499699e+12</td>\n",
       "      <td>82</td>\n",
       "      <td>mate</td>\n",
       "      <td>black</td>\n",
       "      <td>10+0</td>\n",
       "      <td>jamboger</td>\n",
       "      <td>1233</td>\n",
       "      <td>farrukhasomiddinov</td>\n",
       "      <td>1196</td>\n",
       "      <td>d4 d6 Bf4 e5 Bg3 Nf6 e3 exd4 exd4 d5 c3 Bd6 Bd...</td>\n",
       "      <td>A41</td>\n",
       "      <td>Queen's Pawn</td>\n",
       "      <td>2</td>\n",
       "    </tr>\n",
       "    <tr>\n",
       "      <th>20055</th>\n",
       "      <td>True</td>\n",
       "      <td>1.499698e+12</td>\n",
       "      <td>1.499698e+12</td>\n",
       "      <td>35</td>\n",
       "      <td>mate</td>\n",
       "      <td>white</td>\n",
       "      <td>10+0</td>\n",
       "      <td>jamboger</td>\n",
       "      <td>1219</td>\n",
       "      <td>schaaksmurf3</td>\n",
       "      <td>1286</td>\n",
       "      <td>d4 d5 Bf4 Nc6 e3 Nf6 c3 e6 Nf3 Be7 Bd3 O-O Nbd...</td>\n",
       "      <td>D00</td>\n",
       "      <td>Queen's Pawn Game: Mason Attack</td>\n",
       "      <td>3</td>\n",
       "    </tr>\n",
       "    <tr>\n",
       "      <th>20056</th>\n",
       "      <td>True</td>\n",
       "      <td>1.499696e+12</td>\n",
       "      <td>1.499697e+12</td>\n",
       "      <td>109</td>\n",
       "      <td>resign</td>\n",
       "      <td>white</td>\n",
       "      <td>10+0</td>\n",
       "      <td>marcodisogno</td>\n",
       "      <td>1360</td>\n",
       "      <td>jamboger</td>\n",
       "      <td>1227</td>\n",
       "      <td>e4 d6 d4 Nf6 e5 dxe5 dxe5 Qxd1+ Kxd1 Nd5 c4 Nb...</td>\n",
       "      <td>B07</td>\n",
       "      <td>Pirc Defense</td>\n",
       "      <td>4</td>\n",
       "    </tr>\n",
       "    <tr>\n",
       "      <th>20057</th>\n",
       "      <td>True</td>\n",
       "      <td>1.499643e+12</td>\n",
       "      <td>1.499644e+12</td>\n",
       "      <td>78</td>\n",
       "      <td>mate</td>\n",
       "      <td>black</td>\n",
       "      <td>10+0</td>\n",
       "      <td>jamboger</td>\n",
       "      <td>1235</td>\n",
       "      <td>ffbob</td>\n",
       "      <td>1339</td>\n",
       "      <td>d4 d5 Bf4 Na6 e3 e6 c3 Nf6 Nf3 Bd7 Nbd2 b5 Bd3...</td>\n",
       "      <td>D00</td>\n",
       "      <td>Queen's Pawn Game: Mason Attack</td>\n",
       "      <td>3</td>\n",
       "    </tr>\n",
       "  </tbody>\n",
       "</table>\n",
       "<p>19089 rows × 15 columns</p>\n",
       "</div>"
      ],
      "text/plain": [
       "       rated    created_at  last_move_at  turns victory_status winner  \\\n",
       "0      False  1.504210e+12  1.504210e+12     13      outoftime  white   \n",
       "1       True  1.504130e+12  1.504130e+12     16         resign  black   \n",
       "2       True  1.504130e+12  1.504130e+12     61           mate  white   \n",
       "3       True  1.504110e+12  1.504110e+12     61           mate  white   \n",
       "4       True  1.504030e+12  1.504030e+12     95           mate  white   \n",
       "...      ...           ...           ...    ...            ...    ...   \n",
       "20053   True  1.499791e+12  1.499791e+12     24         resign  white   \n",
       "20054   True  1.499698e+12  1.499699e+12     82           mate  black   \n",
       "20055   True  1.499698e+12  1.499698e+12     35           mate  white   \n",
       "20056   True  1.499696e+12  1.499697e+12    109         resign  white   \n",
       "20057   True  1.499643e+12  1.499644e+12     78           mate  black   \n",
       "\n",
       "      increment_code       white_id  white_rating            black_id  \\\n",
       "0               15+2       bourgris          1500                a-00   \n",
       "1               5+10           a-00          1322           skinnerua   \n",
       "2               5+10         ischia          1496                a-00   \n",
       "3               20+0  daniamurashov          1439        adivanov2009   \n",
       "4               30+3      nik221107          1523        adivanov2009   \n",
       "...              ...            ...           ...                 ...   \n",
       "20053          10+10        belcolt          1691            jamboger   \n",
       "20054           10+0       jamboger          1233  farrukhasomiddinov   \n",
       "20055           10+0       jamboger          1219        schaaksmurf3   \n",
       "20056           10+0   marcodisogno          1360            jamboger   \n",
       "20057           10+0       jamboger          1235               ffbob   \n",
       "\n",
       "       black_rating                                              moves  \\\n",
       "0              1191  d4 d5 c4 c6 cxd5 e6 dxe6 fxe6 Nf3 Bb4+ Nc3 Ba5...   \n",
       "1              1261  d4 Nc6 e4 e5 f4 f6 dxe5 fxe5 fxe5 Nxe5 Qd4 Nc6...   \n",
       "2              1500  e4 e5 d3 d6 Be3 c6 Be2 b5 Nd2 a5 a4 c5 axb5 Nc...   \n",
       "3              1454  d4 d5 Nf3 Bf5 Nc3 Nf6 Bf4 Ng4 e3 Nc6 Be2 Qd7 O...   \n",
       "4              1469  e4 e5 Nf3 d6 d4 Nc6 d5 Nb4 a3 Na6 Nc3 Be7 b4 N...   \n",
       "...             ...                                                ...   \n",
       "20053          1220  d4 f5 e3 e6 Nf3 Nf6 Nc3 b6 Be2 Bb7 O-O Be7 Ne5...   \n",
       "20054          1196  d4 d6 Bf4 e5 Bg3 Nf6 e3 exd4 exd4 d5 c3 Bd6 Bd...   \n",
       "20055          1286  d4 d5 Bf4 Nc6 e3 Nf6 c3 e6 Nf3 Be7 Bd3 O-O Nbd...   \n",
       "20056          1227  e4 d6 d4 Nf6 e5 dxe5 dxe5 Qxd1+ Kxd1 Nd5 c4 Nb...   \n",
       "20057          1339  d4 d5 Bf4 Na6 e3 e6 c3 Nf6 Nf3 Bd7 Nbd2 b5 Bd3...   \n",
       "\n",
       "      opening_eco                            opening_name  opening_ply  \n",
       "0             D10        Slav Defense: Exchange Variation            5  \n",
       "1             B00  Nimzowitsch Defense: Kennedy Variation            4  \n",
       "2             C20   King's Pawn Game: Leonardis Variation            3  \n",
       "3             D02  Queen's Pawn Game: Zukertort Variation            3  \n",
       "4             C41                        Philidor Defense            5  \n",
       "...           ...                                     ...          ...  \n",
       "20053         A80                           Dutch Defense            2  \n",
       "20054         A41                            Queen's Pawn            2  \n",
       "20055         D00         Queen's Pawn Game: Mason Attack            3  \n",
       "20056         B07                            Pirc Defense            4  \n",
       "20057         D00         Queen's Pawn Game: Mason Attack            3  \n",
       "\n",
       "[19089 rows x 15 columns]"
      ]
     },
     "execution_count": 11,
     "metadata": {},
     "output_type": "execute_result"
    }
   ],
   "source": [
    "# Dropping rating difference column as it will not be used\n",
    "\n",
    "games.drop(['rating_difference'], axis = 1)"
   ]
  },
  {
   "cell_type": "code",
   "execution_count": null,
   "id": "52f6b359",
   "metadata": {},
   "outputs": [],
   "source": []
  },
  {
   "cell_type": "code",
   "execution_count": 12,
   "id": "ea6e1f88",
   "metadata": {},
   "outputs": [
    {
     "data": {
      "text/html": [
       "<div>\n",
       "<style scoped>\n",
       "    .dataframe tbody tr th:only-of-type {\n",
       "        vertical-align: middle;\n",
       "    }\n",
       "\n",
       "    .dataframe tbody tr th {\n",
       "        vertical-align: top;\n",
       "    }\n",
       "\n",
       "    .dataframe thead th {\n",
       "        text-align: right;\n",
       "    }\n",
       "</style>\n",
       "<table border=\"1\" class=\"dataframe\">\n",
       "  <thead>\n",
       "    <tr style=\"text-align: right;\">\n",
       "      <th></th>\n",
       "      <th>rated</th>\n",
       "      <th>created_at</th>\n",
       "      <th>last_move_at</th>\n",
       "      <th>turns</th>\n",
       "      <th>victory_status</th>\n",
       "      <th>winner</th>\n",
       "      <th>increment_code</th>\n",
       "      <th>white_id</th>\n",
       "      <th>white_rating</th>\n",
       "      <th>black_id</th>\n",
       "      <th>black_rating</th>\n",
       "      <th>moves</th>\n",
       "      <th>opening_eco</th>\n",
       "      <th>opening_name</th>\n",
       "      <th>opening_ply</th>\n",
       "      <th>rating_difference</th>\n",
       "    </tr>\n",
       "  </thead>\n",
       "  <tbody>\n",
       "    <tr>\n",
       "      <th>0</th>\n",
       "      <td>False</td>\n",
       "      <td>1.504210e+12</td>\n",
       "      <td>1.504210e+12</td>\n",
       "      <td>13</td>\n",
       "      <td>outoftime</td>\n",
       "      <td>white</td>\n",
       "      <td>15+2</td>\n",
       "      <td>bourgris</td>\n",
       "      <td>1500</td>\n",
       "      <td>a-00</td>\n",
       "      <td>1191</td>\n",
       "      <td>d4 d5 c4 c6 cxd5 e6 dxe6 fxe6 Nf3 Bb4+ Nc3 Ba5...</td>\n",
       "      <td>D10</td>\n",
       "      <td>Slav Defense: Exchange Variation</td>\n",
       "      <td>5</td>\n",
       "      <td>309</td>\n",
       "    </tr>\n",
       "    <tr>\n",
       "      <th>1</th>\n",
       "      <td>True</td>\n",
       "      <td>1.504130e+12</td>\n",
       "      <td>1.504130e+12</td>\n",
       "      <td>16</td>\n",
       "      <td>resign</td>\n",
       "      <td>black</td>\n",
       "      <td>5+10</td>\n",
       "      <td>a-00</td>\n",
       "      <td>1322</td>\n",
       "      <td>skinnerua</td>\n",
       "      <td>1261</td>\n",
       "      <td>d4 Nc6 e4 e5 f4 f6 dxe5 fxe5 fxe5 Nxe5 Qd4 Nc6...</td>\n",
       "      <td>B00</td>\n",
       "      <td>Nimzowitsch Defense: Kennedy Variation</td>\n",
       "      <td>4</td>\n",
       "      <td>61</td>\n",
       "    </tr>\n",
       "    <tr>\n",
       "      <th>2</th>\n",
       "      <td>True</td>\n",
       "      <td>1.504130e+12</td>\n",
       "      <td>1.504130e+12</td>\n",
       "      <td>61</td>\n",
       "      <td>mate</td>\n",
       "      <td>white</td>\n",
       "      <td>5+10</td>\n",
       "      <td>ischia</td>\n",
       "      <td>1496</td>\n",
       "      <td>a-00</td>\n",
       "      <td>1500</td>\n",
       "      <td>e4 e5 d3 d6 Be3 c6 Be2 b5 Nd2 a5 a4 c5 axb5 Nc...</td>\n",
       "      <td>C20</td>\n",
       "      <td>King's Pawn Game: Leonardis Variation</td>\n",
       "      <td>3</td>\n",
       "      <td>4</td>\n",
       "    </tr>\n",
       "    <tr>\n",
       "      <th>3</th>\n",
       "      <td>True</td>\n",
       "      <td>1.504110e+12</td>\n",
       "      <td>1.504110e+12</td>\n",
       "      <td>61</td>\n",
       "      <td>mate</td>\n",
       "      <td>white</td>\n",
       "      <td>20+0</td>\n",
       "      <td>daniamurashov</td>\n",
       "      <td>1439</td>\n",
       "      <td>adivanov2009</td>\n",
       "      <td>1454</td>\n",
       "      <td>d4 d5 Nf3 Bf5 Nc3 Nf6 Bf4 Ng4 e3 Nc6 Be2 Qd7 O...</td>\n",
       "      <td>D02</td>\n",
       "      <td>Queen's Pawn Game: Zukertort Variation</td>\n",
       "      <td>3</td>\n",
       "      <td>15</td>\n",
       "    </tr>\n",
       "    <tr>\n",
       "      <th>4</th>\n",
       "      <td>True</td>\n",
       "      <td>1.504030e+12</td>\n",
       "      <td>1.504030e+12</td>\n",
       "      <td>95</td>\n",
       "      <td>mate</td>\n",
       "      <td>white</td>\n",
       "      <td>30+3</td>\n",
       "      <td>nik221107</td>\n",
       "      <td>1523</td>\n",
       "      <td>adivanov2009</td>\n",
       "      <td>1469</td>\n",
       "      <td>e4 e5 Nf3 d6 d4 Nc6 d5 Nb4 a3 Na6 Nc3 Be7 b4 N...</td>\n",
       "      <td>C41</td>\n",
       "      <td>Philidor Defense</td>\n",
       "      <td>5</td>\n",
       "      <td>54</td>\n",
       "    </tr>\n",
       "    <tr>\n",
       "      <th>...</th>\n",
       "      <td>...</td>\n",
       "      <td>...</td>\n",
       "      <td>...</td>\n",
       "      <td>...</td>\n",
       "      <td>...</td>\n",
       "      <td>...</td>\n",
       "      <td>...</td>\n",
       "      <td>...</td>\n",
       "      <td>...</td>\n",
       "      <td>...</td>\n",
       "      <td>...</td>\n",
       "      <td>...</td>\n",
       "      <td>...</td>\n",
       "      <td>...</td>\n",
       "      <td>...</td>\n",
       "      <td>...</td>\n",
       "    </tr>\n",
       "    <tr>\n",
       "      <th>20053</th>\n",
       "      <td>True</td>\n",
       "      <td>1.499791e+12</td>\n",
       "      <td>1.499791e+12</td>\n",
       "      <td>24</td>\n",
       "      <td>resign</td>\n",
       "      <td>white</td>\n",
       "      <td>10+10</td>\n",
       "      <td>belcolt</td>\n",
       "      <td>1691</td>\n",
       "      <td>jamboger</td>\n",
       "      <td>1220</td>\n",
       "      <td>d4 f5 e3 e6 Nf3 Nf6 Nc3 b6 Be2 Bb7 O-O Be7 Ne5...</td>\n",
       "      <td>A80</td>\n",
       "      <td>Dutch Defense</td>\n",
       "      <td>2</td>\n",
       "      <td>471</td>\n",
       "    </tr>\n",
       "    <tr>\n",
       "      <th>20054</th>\n",
       "      <td>True</td>\n",
       "      <td>1.499698e+12</td>\n",
       "      <td>1.499699e+12</td>\n",
       "      <td>82</td>\n",
       "      <td>mate</td>\n",
       "      <td>black</td>\n",
       "      <td>10+0</td>\n",
       "      <td>jamboger</td>\n",
       "      <td>1233</td>\n",
       "      <td>farrukhasomiddinov</td>\n",
       "      <td>1196</td>\n",
       "      <td>d4 d6 Bf4 e5 Bg3 Nf6 e3 exd4 exd4 d5 c3 Bd6 Bd...</td>\n",
       "      <td>A41</td>\n",
       "      <td>Queen's Pawn</td>\n",
       "      <td>2</td>\n",
       "      <td>37</td>\n",
       "    </tr>\n",
       "    <tr>\n",
       "      <th>20055</th>\n",
       "      <td>True</td>\n",
       "      <td>1.499698e+12</td>\n",
       "      <td>1.499698e+12</td>\n",
       "      <td>35</td>\n",
       "      <td>mate</td>\n",
       "      <td>white</td>\n",
       "      <td>10+0</td>\n",
       "      <td>jamboger</td>\n",
       "      <td>1219</td>\n",
       "      <td>schaaksmurf3</td>\n",
       "      <td>1286</td>\n",
       "      <td>d4 d5 Bf4 Nc6 e3 Nf6 c3 e6 Nf3 Be7 Bd3 O-O Nbd...</td>\n",
       "      <td>D00</td>\n",
       "      <td>Queen's Pawn Game: Mason Attack</td>\n",
       "      <td>3</td>\n",
       "      <td>67</td>\n",
       "    </tr>\n",
       "    <tr>\n",
       "      <th>20056</th>\n",
       "      <td>True</td>\n",
       "      <td>1.499696e+12</td>\n",
       "      <td>1.499697e+12</td>\n",
       "      <td>109</td>\n",
       "      <td>resign</td>\n",
       "      <td>white</td>\n",
       "      <td>10+0</td>\n",
       "      <td>marcodisogno</td>\n",
       "      <td>1360</td>\n",
       "      <td>jamboger</td>\n",
       "      <td>1227</td>\n",
       "      <td>e4 d6 d4 Nf6 e5 dxe5 dxe5 Qxd1+ Kxd1 Nd5 c4 Nb...</td>\n",
       "      <td>B07</td>\n",
       "      <td>Pirc Defense</td>\n",
       "      <td>4</td>\n",
       "      <td>133</td>\n",
       "    </tr>\n",
       "    <tr>\n",
       "      <th>20057</th>\n",
       "      <td>True</td>\n",
       "      <td>1.499643e+12</td>\n",
       "      <td>1.499644e+12</td>\n",
       "      <td>78</td>\n",
       "      <td>mate</td>\n",
       "      <td>black</td>\n",
       "      <td>10+0</td>\n",
       "      <td>jamboger</td>\n",
       "      <td>1235</td>\n",
       "      <td>ffbob</td>\n",
       "      <td>1339</td>\n",
       "      <td>d4 d5 Bf4 Na6 e3 e6 c3 Nf6 Nf3 Bd7 Nbd2 b5 Bd3...</td>\n",
       "      <td>D00</td>\n",
       "      <td>Queen's Pawn Game: Mason Attack</td>\n",
       "      <td>3</td>\n",
       "      <td>104</td>\n",
       "    </tr>\n",
       "  </tbody>\n",
       "</table>\n",
       "<p>19089 rows × 16 columns</p>\n",
       "</div>"
      ],
      "text/plain": [
       "       rated    created_at  last_move_at  turns victory_status winner  \\\n",
       "0      False  1.504210e+12  1.504210e+12     13      outoftime  white   \n",
       "1       True  1.504130e+12  1.504130e+12     16         resign  black   \n",
       "2       True  1.504130e+12  1.504130e+12     61           mate  white   \n",
       "3       True  1.504110e+12  1.504110e+12     61           mate  white   \n",
       "4       True  1.504030e+12  1.504030e+12     95           mate  white   \n",
       "...      ...           ...           ...    ...            ...    ...   \n",
       "20053   True  1.499791e+12  1.499791e+12     24         resign  white   \n",
       "20054   True  1.499698e+12  1.499699e+12     82           mate  black   \n",
       "20055   True  1.499698e+12  1.499698e+12     35           mate  white   \n",
       "20056   True  1.499696e+12  1.499697e+12    109         resign  white   \n",
       "20057   True  1.499643e+12  1.499644e+12     78           mate  black   \n",
       "\n",
       "      increment_code       white_id  white_rating            black_id  \\\n",
       "0               15+2       bourgris          1500                a-00   \n",
       "1               5+10           a-00          1322           skinnerua   \n",
       "2               5+10         ischia          1496                a-00   \n",
       "3               20+0  daniamurashov          1439        adivanov2009   \n",
       "4               30+3      nik221107          1523        adivanov2009   \n",
       "...              ...            ...           ...                 ...   \n",
       "20053          10+10        belcolt          1691            jamboger   \n",
       "20054           10+0       jamboger          1233  farrukhasomiddinov   \n",
       "20055           10+0       jamboger          1219        schaaksmurf3   \n",
       "20056           10+0   marcodisogno          1360            jamboger   \n",
       "20057           10+0       jamboger          1235               ffbob   \n",
       "\n",
       "       black_rating                                              moves  \\\n",
       "0              1191  d4 d5 c4 c6 cxd5 e6 dxe6 fxe6 Nf3 Bb4+ Nc3 Ba5...   \n",
       "1              1261  d4 Nc6 e4 e5 f4 f6 dxe5 fxe5 fxe5 Nxe5 Qd4 Nc6...   \n",
       "2              1500  e4 e5 d3 d6 Be3 c6 Be2 b5 Nd2 a5 a4 c5 axb5 Nc...   \n",
       "3              1454  d4 d5 Nf3 Bf5 Nc3 Nf6 Bf4 Ng4 e3 Nc6 Be2 Qd7 O...   \n",
       "4              1469  e4 e5 Nf3 d6 d4 Nc6 d5 Nb4 a3 Na6 Nc3 Be7 b4 N...   \n",
       "...             ...                                                ...   \n",
       "20053          1220  d4 f5 e3 e6 Nf3 Nf6 Nc3 b6 Be2 Bb7 O-O Be7 Ne5...   \n",
       "20054          1196  d4 d6 Bf4 e5 Bg3 Nf6 e3 exd4 exd4 d5 c3 Bd6 Bd...   \n",
       "20055          1286  d4 d5 Bf4 Nc6 e3 Nf6 c3 e6 Nf3 Be7 Bd3 O-O Nbd...   \n",
       "20056          1227  e4 d6 d4 Nf6 e5 dxe5 dxe5 Qxd1+ Kxd1 Nd5 c4 Nb...   \n",
       "20057          1339  d4 d5 Bf4 Na6 e3 e6 c3 Nf6 Nf3 Bd7 Nbd2 b5 Bd3...   \n",
       "\n",
       "      opening_eco                            opening_name  opening_ply  \\\n",
       "0             D10        Slav Defense: Exchange Variation            5   \n",
       "1             B00  Nimzowitsch Defense: Kennedy Variation            4   \n",
       "2             C20   King's Pawn Game: Leonardis Variation            3   \n",
       "3             D02  Queen's Pawn Game: Zukertort Variation            3   \n",
       "4             C41                        Philidor Defense            5   \n",
       "...           ...                                     ...          ...   \n",
       "20053         A80                           Dutch Defense            2   \n",
       "20054         A41                            Queen's Pawn            2   \n",
       "20055         D00         Queen's Pawn Game: Mason Attack            3   \n",
       "20056         B07                            Pirc Defense            4   \n",
       "20057         D00         Queen's Pawn Game: Mason Attack            3   \n",
       "\n",
       "       rating_difference  \n",
       "0                    309  \n",
       "1                     61  \n",
       "2                      4  \n",
       "3                     15  \n",
       "4                     54  \n",
       "...                  ...  \n",
       "20053                471  \n",
       "20054                 37  \n",
       "20055                 67  \n",
       "20056                133  \n",
       "20057                104  \n",
       "\n",
       "[19089 rows x 16 columns]"
      ]
     },
     "execution_count": 12,
     "metadata": {},
     "output_type": "execute_result"
    }
   ],
   "source": [
    "games"
   ]
  },
  {
   "cell_type": "code",
   "execution_count": 13,
   "id": "b5bae9b7",
   "metadata": {},
   "outputs": [],
   "source": [
    "# Splitting the increment_code into two columns \"time(min)\" and\n",
    "#        \"increment(sec) and converting them into numerical data\"\n",
    "\n",
    "games[['time(min)', 'increment(sec)']] = games['increment_code'].str.split('+', expand = True)\n",
    "\n",
    "games = games.drop(['increment_code'], axis = 1)\n",
    "\n",
    "games['time(min)'] = games['time(min)'].astype('int64')\n",
    "games['increment(sec)'] = games['increment(sec)'].astype('int64')\n"
   ]
  },
  {
   "cell_type": "code",
   "execution_count": 14,
   "id": "ffc6c43f",
   "metadata": {},
   "outputs": [],
   "source": [
    "# Function to categorize game according to time-\n",
    "\n",
    "def get_game_type(time):\n",
    "    if time < 3:\n",
    "        return 'Bullet'\n",
    "    elif time < 10:\n",
    "        return 'Blitz'\n",
    "    elif time < 30:\n",
    "        return 'Rapid'\n",
    "    else:\n",
    "        return 'Classic'\n",
    "    \n",
    "# Apply the function to create a new column\n",
    "games['games_type'] = games['time(min)'].apply(get_game_type)"
   ]
  },
  {
   "cell_type": "code",
   "execution_count": 15,
   "id": "a3b7fc5b",
   "metadata": {},
   "outputs": [
    {
     "data": {
      "text/plain": [
       "Index(['rated', 'created_at', 'last_move_at', 'turns', 'victory_status',\n",
       "       'winner', 'white_id', 'white_rating', 'black_id', 'black_rating',\n",
       "       'moves', 'opening_eco', 'opening_name', 'opening_ply',\n",
       "       'rating_difference', 'time(min)', 'increment(sec)', 'games_type'],\n",
       "      dtype='object')"
      ]
     },
     "execution_count": 15,
     "metadata": {},
     "output_type": "execute_result"
    }
   ],
   "source": [
    "games.columns"
   ]
  },
  {
   "cell_type": "code",
   "execution_count": 16,
   "id": "5be57f66",
   "metadata": {},
   "outputs": [],
   "source": [
    "# Function to categorize according to rating-\n",
    "\n",
    "def get_player_lvl(rate):\n",
    "    if rate <1200:\n",
    "        return 'Begineer'\n",
    "    elif rate < 1600:\n",
    "        return 'Average'\n",
    "    elif rate < 2000:\n",
    "        return 'Advanced'\n",
    "    else:\n",
    "        return 'Master'\n",
    "\n",
    "# Apply the function to create a new column\n",
    "\n",
    "games['players_lvl'] = games['white_rating'].apply(get_player_lvl)\n"
   ]
  },
  {
   "cell_type": "code",
   "execution_count": 17,
   "id": "875eb611",
   "metadata": {},
   "outputs": [
    {
     "data": {
      "text/plain": [
       "0        d4 d5 c4 c6 cxd5 e6 dxe6 fxe6 Nf3 Bb4+ Nc3 Ba5...\n",
       "1        d4 Nc6 e4 e5 f4 f6 dxe5 fxe5 fxe5 Nxe5 Qd4 Nc6...\n",
       "2        e4 e5 d3 d6 Be3 c6 Be2 b5 Nd2 a5 a4 c5 axb5 Nc...\n",
       "3        d4 d5 Nf3 Bf5 Nc3 Nf6 Bf4 Ng4 e3 Nc6 Be2 Qd7 O...\n",
       "4        e4 e5 Nf3 d6 d4 Nc6 d5 Nb4 a3 Na6 Nc3 Be7 b4 N...\n",
       "                               ...                        \n",
       "20053    d4 f5 e3 e6 Nf3 Nf6 Nc3 b6 Be2 Bb7 O-O Be7 Ne5...\n",
       "20054    d4 d6 Bf4 e5 Bg3 Nf6 e3 exd4 exd4 d5 c3 Bd6 Bd...\n",
       "20055    d4 d5 Bf4 Nc6 e3 Nf6 c3 e6 Nf3 Be7 Bd3 O-O Nbd...\n",
       "20056    e4 d6 d4 Nf6 e5 dxe5 dxe5 Qxd1+ Kxd1 Nd5 c4 Nb...\n",
       "20057    d4 d5 Bf4 Na6 e3 e6 c3 Nf6 Nf3 Bd7 Nbd2 b5 Bd3...\n",
       "Name: moves, Length: 19089, dtype: object"
      ]
     },
     "execution_count": 17,
     "metadata": {},
     "output_type": "execute_result"
    }
   ],
   "source": [
    "games['moves']"
   ]
  },
  {
   "cell_type": "code",
   "execution_count": 18,
   "id": "0e0ab0c7",
   "metadata": {},
   "outputs": [
    {
     "data": {
      "text/html": [
       "<div>\n",
       "<style scoped>\n",
       "    .dataframe tbody tr th:only-of-type {\n",
       "        vertical-align: middle;\n",
       "    }\n",
       "\n",
       "    .dataframe tbody tr th {\n",
       "        vertical-align: top;\n",
       "    }\n",
       "\n",
       "    .dataframe thead th {\n",
       "        text-align: right;\n",
       "    }\n",
       "</style>\n",
       "<table border=\"1\" class=\"dataframe\">\n",
       "  <thead>\n",
       "    <tr style=\"text-align: right;\">\n",
       "      <th></th>\n",
       "      <th>rated</th>\n",
       "      <th>created_at</th>\n",
       "      <th>last_move_at</th>\n",
       "      <th>turns</th>\n",
       "      <th>victory_status</th>\n",
       "      <th>winner</th>\n",
       "      <th>white_id</th>\n",
       "      <th>white_rating</th>\n",
       "      <th>black_id</th>\n",
       "      <th>black_rating</th>\n",
       "      <th>moves</th>\n",
       "      <th>opening_eco</th>\n",
       "      <th>opening_name</th>\n",
       "      <th>opening_ply</th>\n",
       "      <th>rating_difference</th>\n",
       "      <th>time(min)</th>\n",
       "      <th>increment(sec)</th>\n",
       "      <th>games_type</th>\n",
       "      <th>players_lvl</th>\n",
       "    </tr>\n",
       "  </thead>\n",
       "  <tbody>\n",
       "    <tr>\n",
       "      <th>0</th>\n",
       "      <td>False</td>\n",
       "      <td>1.504210e+12</td>\n",
       "      <td>1.504210e+12</td>\n",
       "      <td>13</td>\n",
       "      <td>outoftime</td>\n",
       "      <td>white</td>\n",
       "      <td>bourgris</td>\n",
       "      <td>1500</td>\n",
       "      <td>a-00</td>\n",
       "      <td>1191</td>\n",
       "      <td>d4 d5 c4 c6 cxd5 e6 dxe6 fxe6 Nf3 Bb4+ Nc3 Ba5...</td>\n",
       "      <td>D10</td>\n",
       "      <td>Slav Defense: Exchange Variation</td>\n",
       "      <td>5</td>\n",
       "      <td>309</td>\n",
       "      <td>15</td>\n",
       "      <td>2</td>\n",
       "      <td>Rapid</td>\n",
       "      <td>Average</td>\n",
       "    </tr>\n",
       "    <tr>\n",
       "      <th>1</th>\n",
       "      <td>True</td>\n",
       "      <td>1.504130e+12</td>\n",
       "      <td>1.504130e+12</td>\n",
       "      <td>16</td>\n",
       "      <td>resign</td>\n",
       "      <td>black</td>\n",
       "      <td>a-00</td>\n",
       "      <td>1322</td>\n",
       "      <td>skinnerua</td>\n",
       "      <td>1261</td>\n",
       "      <td>d4 Nc6 e4 e5 f4 f6 dxe5 fxe5 fxe5 Nxe5 Qd4 Nc6...</td>\n",
       "      <td>B00</td>\n",
       "      <td>Nimzowitsch Defense: Kennedy Variation</td>\n",
       "      <td>4</td>\n",
       "      <td>61</td>\n",
       "      <td>5</td>\n",
       "      <td>10</td>\n",
       "      <td>Blitz</td>\n",
       "      <td>Average</td>\n",
       "    </tr>\n",
       "  </tbody>\n",
       "</table>\n",
       "</div>"
      ],
      "text/plain": [
       "   rated    created_at  last_move_at  turns victory_status winner  white_id  \\\n",
       "0  False  1.504210e+12  1.504210e+12     13      outoftime  white  bourgris   \n",
       "1   True  1.504130e+12  1.504130e+12     16         resign  black      a-00   \n",
       "\n",
       "   white_rating   black_id  black_rating  \\\n",
       "0          1500       a-00          1191   \n",
       "1          1322  skinnerua          1261   \n",
       "\n",
       "                                               moves opening_eco  \\\n",
       "0  d4 d5 c4 c6 cxd5 e6 dxe6 fxe6 Nf3 Bb4+ Nc3 Ba5...         D10   \n",
       "1  d4 Nc6 e4 e5 f4 f6 dxe5 fxe5 fxe5 Nxe5 Qd4 Nc6...         B00   \n",
       "\n",
       "                             opening_name  opening_ply  rating_difference  \\\n",
       "0        Slav Defense: Exchange Variation            5                309   \n",
       "1  Nimzowitsch Defense: Kennedy Variation            4                 61   \n",
       "\n",
       "   time(min)  increment(sec) games_type players_lvl  \n",
       "0         15               2      Rapid     Average  \n",
       "1          5              10      Blitz     Average  "
      ]
     },
     "execution_count": 18,
     "metadata": {},
     "output_type": "execute_result"
    }
   ],
   "source": [
    "games.head(2)"
   ]
  },
  {
   "cell_type": "code",
   "execution_count": 19,
   "id": "dec18ad4",
   "metadata": {},
   "outputs": [],
   "source": [
    "# Using moves column important data which is the first move \n",
    "# that defines lines of the game \n",
    "\n",
    "# in chess first move is for white and second move is for black\n",
    "\n",
    "games['wFirst_move'] = games['moves'].str.split(' ').str[0]\n",
    "\n",
    "\n",
    "\n"
   ]
  },
  {
   "cell_type": "code",
   "execution_count": 20,
   "id": "6496cc8f",
   "metadata": {},
   "outputs": [
    {
     "data": {
      "text/plain": [
       "0        d4\n",
       "1        d4\n",
       "2        e4\n",
       "3        d4\n",
       "4        e4\n",
       "         ..\n",
       "20053    d4\n",
       "20054    d4\n",
       "20055    d4\n",
       "20056    e4\n",
       "20057    d4\n",
       "Name: wFirst_move, Length: 19089, dtype: object"
      ]
     },
     "execution_count": 20,
     "metadata": {},
     "output_type": "execute_result"
    }
   ],
   "source": [
    "games['wFirst_move']"
   ]
  },
  {
   "cell_type": "code",
   "execution_count": 21,
   "id": "30009e7d",
   "metadata": {},
   "outputs": [],
   "source": [
    "games['bFirst_move'] = games['moves'].str.split(' ').str[1]"
   ]
  },
  {
   "cell_type": "code",
   "execution_count": 22,
   "id": "ad56dac4",
   "metadata": {},
   "outputs": [],
   "source": [
    "games = games.drop(['created_at'], axis = 1)\n",
    "games = games.drop(['last_move_at'], axis = 1)"
   ]
  },
  {
   "cell_type": "code",
   "execution_count": 23,
   "id": "ac628f10",
   "metadata": {},
   "outputs": [
    {
     "name": "stdout",
     "output_type": "stream",
     "text": [
      "Data shape before cleaning: (20058, 16)\n",
      "Data shape after cleaning: (19089, 19)\n"
     ]
    }
   ],
   "source": [
    "# Data shape before and after removing unused cloumns and outliers\n",
    "\n",
    "shape_after_cleaning = games.shape\n",
    "print(f\"Data shape before cleaning: {shape_before_cleaning}\")\n",
    "print(f\"Data shape after cleaning: {shape_after_cleaning}\")"
   ]
  },
  {
   "cell_type": "code",
   "execution_count": 24,
   "id": "a6f66cee",
   "metadata": {},
   "outputs": [],
   "source": [
    "games = games.drop(['rating_difference'], axis = 1)"
   ]
  },
  {
   "cell_type": "code",
   "execution_count": 25,
   "id": "3491ca8e",
   "metadata": {},
   "outputs": [
    {
     "data": {
      "text/plain": [
       "Index(['rated', 'turns', 'victory_status', 'winner', 'white_id',\n",
       "       'white_rating', 'black_id', 'black_rating', 'moves', 'opening_eco',\n",
       "       'opening_name', 'opening_ply', 'time(min)', 'increment(sec)',\n",
       "       'games_type', 'players_lvl', 'wFirst_move', 'bFirst_move'],\n",
       "      dtype='object')"
      ]
     },
     "execution_count": 25,
     "metadata": {},
     "output_type": "execute_result"
    }
   ],
   "source": [
    "games.columns"
   ]
  },
  {
   "cell_type": "markdown",
   "id": "462dbe9f",
   "metadata": {},
   "source": [
    "# Data Exploration"
   ]
  },
  {
   "cell_type": "code",
   "execution_count": 26,
   "id": "428d89c8",
   "metadata": {},
   "outputs": [
    {
     "data": {
      "text/html": [
       "<div>\n",
       "<style scoped>\n",
       "    .dataframe tbody tr th:only-of-type {\n",
       "        vertical-align: middle;\n",
       "    }\n",
       "\n",
       "    .dataframe tbody tr th {\n",
       "        vertical-align: top;\n",
       "    }\n",
       "\n",
       "    .dataframe thead th {\n",
       "        text-align: right;\n",
       "    }\n",
       "</style>\n",
       "<table border=\"1\" class=\"dataframe\">\n",
       "  <thead>\n",
       "    <tr style=\"text-align: right;\">\n",
       "      <th></th>\n",
       "      <th>rated</th>\n",
       "      <th>turns</th>\n",
       "      <th>victory_status</th>\n",
       "      <th>winner</th>\n",
       "      <th>white_id</th>\n",
       "      <th>white_rating</th>\n",
       "      <th>black_id</th>\n",
       "      <th>black_rating</th>\n",
       "      <th>moves</th>\n",
       "      <th>opening_eco</th>\n",
       "      <th>opening_name</th>\n",
       "      <th>opening_ply</th>\n",
       "      <th>time(min)</th>\n",
       "      <th>increment(sec)</th>\n",
       "      <th>games_type</th>\n",
       "      <th>players_lvl</th>\n",
       "      <th>wFirst_move</th>\n",
       "      <th>bFirst_move</th>\n",
       "    </tr>\n",
       "  </thead>\n",
       "  <tbody>\n",
       "    <tr>\n",
       "      <th>0</th>\n",
       "      <td>False</td>\n",
       "      <td>13</td>\n",
       "      <td>outoftime</td>\n",
       "      <td>white</td>\n",
       "      <td>bourgris</td>\n",
       "      <td>1500</td>\n",
       "      <td>a-00</td>\n",
       "      <td>1191</td>\n",
       "      <td>d4 d5 c4 c6 cxd5 e6 dxe6 fxe6 Nf3 Bb4+ Nc3 Ba5...</td>\n",
       "      <td>D10</td>\n",
       "      <td>Slav Defense: Exchange Variation</td>\n",
       "      <td>5</td>\n",
       "      <td>15</td>\n",
       "      <td>2</td>\n",
       "      <td>Rapid</td>\n",
       "      <td>Average</td>\n",
       "      <td>d4</td>\n",
       "      <td>d5</td>\n",
       "    </tr>\n",
       "    <tr>\n",
       "      <th>1</th>\n",
       "      <td>True</td>\n",
       "      <td>16</td>\n",
       "      <td>resign</td>\n",
       "      <td>black</td>\n",
       "      <td>a-00</td>\n",
       "      <td>1322</td>\n",
       "      <td>skinnerua</td>\n",
       "      <td>1261</td>\n",
       "      <td>d4 Nc6 e4 e5 f4 f6 dxe5 fxe5 fxe5 Nxe5 Qd4 Nc6...</td>\n",
       "      <td>B00</td>\n",
       "      <td>Nimzowitsch Defense: Kennedy Variation</td>\n",
       "      <td>4</td>\n",
       "      <td>5</td>\n",
       "      <td>10</td>\n",
       "      <td>Blitz</td>\n",
       "      <td>Average</td>\n",
       "      <td>d4</td>\n",
       "      <td>Nc6</td>\n",
       "    </tr>\n",
       "    <tr>\n",
       "      <th>2</th>\n",
       "      <td>True</td>\n",
       "      <td>61</td>\n",
       "      <td>mate</td>\n",
       "      <td>white</td>\n",
       "      <td>ischia</td>\n",
       "      <td>1496</td>\n",
       "      <td>a-00</td>\n",
       "      <td>1500</td>\n",
       "      <td>e4 e5 d3 d6 Be3 c6 Be2 b5 Nd2 a5 a4 c5 axb5 Nc...</td>\n",
       "      <td>C20</td>\n",
       "      <td>King's Pawn Game: Leonardis Variation</td>\n",
       "      <td>3</td>\n",
       "      <td>5</td>\n",
       "      <td>10</td>\n",
       "      <td>Blitz</td>\n",
       "      <td>Average</td>\n",
       "      <td>e4</td>\n",
       "      <td>e5</td>\n",
       "    </tr>\n",
       "    <tr>\n",
       "      <th>3</th>\n",
       "      <td>True</td>\n",
       "      <td>61</td>\n",
       "      <td>mate</td>\n",
       "      <td>white</td>\n",
       "      <td>daniamurashov</td>\n",
       "      <td>1439</td>\n",
       "      <td>adivanov2009</td>\n",
       "      <td>1454</td>\n",
       "      <td>d4 d5 Nf3 Bf5 Nc3 Nf6 Bf4 Ng4 e3 Nc6 Be2 Qd7 O...</td>\n",
       "      <td>D02</td>\n",
       "      <td>Queen's Pawn Game: Zukertort Variation</td>\n",
       "      <td>3</td>\n",
       "      <td>20</td>\n",
       "      <td>0</td>\n",
       "      <td>Rapid</td>\n",
       "      <td>Average</td>\n",
       "      <td>d4</td>\n",
       "      <td>d5</td>\n",
       "    </tr>\n",
       "    <tr>\n",
       "      <th>4</th>\n",
       "      <td>True</td>\n",
       "      <td>95</td>\n",
       "      <td>mate</td>\n",
       "      <td>white</td>\n",
       "      <td>nik221107</td>\n",
       "      <td>1523</td>\n",
       "      <td>adivanov2009</td>\n",
       "      <td>1469</td>\n",
       "      <td>e4 e5 Nf3 d6 d4 Nc6 d5 Nb4 a3 Na6 Nc3 Be7 b4 N...</td>\n",
       "      <td>C41</td>\n",
       "      <td>Philidor Defense</td>\n",
       "      <td>5</td>\n",
       "      <td>30</td>\n",
       "      <td>3</td>\n",
       "      <td>Classic</td>\n",
       "      <td>Average</td>\n",
       "      <td>e4</td>\n",
       "      <td>e5</td>\n",
       "    </tr>\n",
       "  </tbody>\n",
       "</table>\n",
       "</div>"
      ],
      "text/plain": [
       "   rated  turns victory_status winner       white_id  white_rating  \\\n",
       "0  False     13      outoftime  white       bourgris          1500   \n",
       "1   True     16         resign  black           a-00          1322   \n",
       "2   True     61           mate  white         ischia          1496   \n",
       "3   True     61           mate  white  daniamurashov          1439   \n",
       "4   True     95           mate  white      nik221107          1523   \n",
       "\n",
       "       black_id  black_rating  \\\n",
       "0          a-00          1191   \n",
       "1     skinnerua          1261   \n",
       "2          a-00          1500   \n",
       "3  adivanov2009          1454   \n",
       "4  adivanov2009          1469   \n",
       "\n",
       "                                               moves opening_eco  \\\n",
       "0  d4 d5 c4 c6 cxd5 e6 dxe6 fxe6 Nf3 Bb4+ Nc3 Ba5...         D10   \n",
       "1  d4 Nc6 e4 e5 f4 f6 dxe5 fxe5 fxe5 Nxe5 Qd4 Nc6...         B00   \n",
       "2  e4 e5 d3 d6 Be3 c6 Be2 b5 Nd2 a5 a4 c5 axb5 Nc...         C20   \n",
       "3  d4 d5 Nf3 Bf5 Nc3 Nf6 Bf4 Ng4 e3 Nc6 Be2 Qd7 O...         D02   \n",
       "4  e4 e5 Nf3 d6 d4 Nc6 d5 Nb4 a3 Na6 Nc3 Be7 b4 N...         C41   \n",
       "\n",
       "                             opening_name  opening_ply  time(min)  \\\n",
       "0        Slav Defense: Exchange Variation            5         15   \n",
       "1  Nimzowitsch Defense: Kennedy Variation            4          5   \n",
       "2   King's Pawn Game: Leonardis Variation            3          5   \n",
       "3  Queen's Pawn Game: Zukertort Variation            3         20   \n",
       "4                        Philidor Defense            5         30   \n",
       "\n",
       "   increment(sec) games_type players_lvl wFirst_move bFirst_move  \n",
       "0               2      Rapid     Average          d4          d5  \n",
       "1              10      Blitz     Average          d4         Nc6  \n",
       "2              10      Blitz     Average          e4          e5  \n",
       "3               0      Rapid     Average          d4          d5  \n",
       "4               3    Classic     Average          e4          e5  "
      ]
     },
     "execution_count": 26,
     "metadata": {},
     "output_type": "execute_result"
    }
   ],
   "source": [
    "# First 5 rows of dataset\n",
    "\n",
    "games.head()"
   ]
  },
  {
   "cell_type": "code",
   "execution_count": 27,
   "id": "4adf52ee",
   "metadata": {},
   "outputs": [
    {
     "data": {
      "text/plain": [
       "rated             0\n",
       "turns             0\n",
       "victory_status    0\n",
       "winner            0\n",
       "white_id          0\n",
       "white_rating      0\n",
       "black_id          0\n",
       "black_rating      0\n",
       "moves             0\n",
       "opening_eco       0\n",
       "opening_name      0\n",
       "opening_ply       0\n",
       "time(min)         0\n",
       "increment(sec)    0\n",
       "games_type        0\n",
       "players_lvl       0\n",
       "wFirst_move       0\n",
       "bFirst_move       5\n",
       "dtype: int64"
      ]
     },
     "execution_count": 27,
     "metadata": {},
     "output_type": "execute_result"
    }
   ],
   "source": [
    "games.isna().sum()  # To check if there are any null values"
   ]
  },
  {
   "cell_type": "code",
   "execution_count": 28,
   "id": "1561660b",
   "metadata": {},
   "outputs": [],
   "source": [
    "# So we have 5 values in bFirst_move as null so we need to remove them \n",
    "\n",
    "games = games.dropna(subset= ['bFirst_move'])"
   ]
  },
  {
   "cell_type": "code",
   "execution_count": 29,
   "id": "d73e6202",
   "metadata": {},
   "outputs": [
    {
     "data": {
      "text/plain": [
       "rated             0\n",
       "turns             0\n",
       "victory_status    0\n",
       "winner            0\n",
       "white_id          0\n",
       "white_rating      0\n",
       "black_id          0\n",
       "black_rating      0\n",
       "moves             0\n",
       "opening_eco       0\n",
       "opening_name      0\n",
       "opening_ply       0\n",
       "time(min)         0\n",
       "increment(sec)    0\n",
       "games_type        0\n",
       "players_lvl       0\n",
       "wFirst_move       0\n",
       "bFirst_move       0\n",
       "dtype: int64"
      ]
     },
     "execution_count": 29,
     "metadata": {},
     "output_type": "execute_result"
    }
   ],
   "source": [
    "games.isna().sum()"
   ]
  },
  {
   "cell_type": "code",
   "execution_count": 30,
   "id": "dc956555",
   "metadata": {},
   "outputs": [
    {
     "data": {
      "text/html": [
       "<div>\n",
       "<style scoped>\n",
       "    .dataframe tbody tr th:only-of-type {\n",
       "        vertical-align: middle;\n",
       "    }\n",
       "\n",
       "    .dataframe tbody tr th {\n",
       "        vertical-align: top;\n",
       "    }\n",
       "\n",
       "    .dataframe thead th {\n",
       "        text-align: right;\n",
       "    }\n",
       "</style>\n",
       "<table border=\"1\" class=\"dataframe\">\n",
       "  <thead>\n",
       "    <tr style=\"text-align: right;\">\n",
       "      <th></th>\n",
       "      <th>rated</th>\n",
       "      <th>turns</th>\n",
       "      <th>victory_status</th>\n",
       "      <th>winner</th>\n",
       "      <th>white_id</th>\n",
       "      <th>white_rating</th>\n",
       "      <th>black_id</th>\n",
       "      <th>black_rating</th>\n",
       "      <th>moves</th>\n",
       "      <th>opening_eco</th>\n",
       "      <th>opening_name</th>\n",
       "      <th>opening_ply</th>\n",
       "      <th>time(min)</th>\n",
       "      <th>increment(sec)</th>\n",
       "      <th>games_type</th>\n",
       "      <th>players_lvl</th>\n",
       "      <th>wFirst_move</th>\n",
       "      <th>bFirst_move</th>\n",
       "    </tr>\n",
       "  </thead>\n",
       "  <tbody>\n",
       "    <tr>\n",
       "      <th>20053</th>\n",
       "      <td>True</td>\n",
       "      <td>24</td>\n",
       "      <td>resign</td>\n",
       "      <td>white</td>\n",
       "      <td>belcolt</td>\n",
       "      <td>1691</td>\n",
       "      <td>jamboger</td>\n",
       "      <td>1220</td>\n",
       "      <td>d4 f5 e3 e6 Nf3 Nf6 Nc3 b6 Be2 Bb7 O-O Be7 Ne5...</td>\n",
       "      <td>A80</td>\n",
       "      <td>Dutch Defense</td>\n",
       "      <td>2</td>\n",
       "      <td>10</td>\n",
       "      <td>10</td>\n",
       "      <td>Rapid</td>\n",
       "      <td>Advanced</td>\n",
       "      <td>d4</td>\n",
       "      <td>f5</td>\n",
       "    </tr>\n",
       "    <tr>\n",
       "      <th>20054</th>\n",
       "      <td>True</td>\n",
       "      <td>82</td>\n",
       "      <td>mate</td>\n",
       "      <td>black</td>\n",
       "      <td>jamboger</td>\n",
       "      <td>1233</td>\n",
       "      <td>farrukhasomiddinov</td>\n",
       "      <td>1196</td>\n",
       "      <td>d4 d6 Bf4 e5 Bg3 Nf6 e3 exd4 exd4 d5 c3 Bd6 Bd...</td>\n",
       "      <td>A41</td>\n",
       "      <td>Queen's Pawn</td>\n",
       "      <td>2</td>\n",
       "      <td>10</td>\n",
       "      <td>0</td>\n",
       "      <td>Rapid</td>\n",
       "      <td>Average</td>\n",
       "      <td>d4</td>\n",
       "      <td>d6</td>\n",
       "    </tr>\n",
       "    <tr>\n",
       "      <th>20055</th>\n",
       "      <td>True</td>\n",
       "      <td>35</td>\n",
       "      <td>mate</td>\n",
       "      <td>white</td>\n",
       "      <td>jamboger</td>\n",
       "      <td>1219</td>\n",
       "      <td>schaaksmurf3</td>\n",
       "      <td>1286</td>\n",
       "      <td>d4 d5 Bf4 Nc6 e3 Nf6 c3 e6 Nf3 Be7 Bd3 O-O Nbd...</td>\n",
       "      <td>D00</td>\n",
       "      <td>Queen's Pawn Game: Mason Attack</td>\n",
       "      <td>3</td>\n",
       "      <td>10</td>\n",
       "      <td>0</td>\n",
       "      <td>Rapid</td>\n",
       "      <td>Average</td>\n",
       "      <td>d4</td>\n",
       "      <td>d5</td>\n",
       "    </tr>\n",
       "    <tr>\n",
       "      <th>20056</th>\n",
       "      <td>True</td>\n",
       "      <td>109</td>\n",
       "      <td>resign</td>\n",
       "      <td>white</td>\n",
       "      <td>marcodisogno</td>\n",
       "      <td>1360</td>\n",
       "      <td>jamboger</td>\n",
       "      <td>1227</td>\n",
       "      <td>e4 d6 d4 Nf6 e5 dxe5 dxe5 Qxd1+ Kxd1 Nd5 c4 Nb...</td>\n",
       "      <td>B07</td>\n",
       "      <td>Pirc Defense</td>\n",
       "      <td>4</td>\n",
       "      <td>10</td>\n",
       "      <td>0</td>\n",
       "      <td>Rapid</td>\n",
       "      <td>Average</td>\n",
       "      <td>e4</td>\n",
       "      <td>d6</td>\n",
       "    </tr>\n",
       "    <tr>\n",
       "      <th>20057</th>\n",
       "      <td>True</td>\n",
       "      <td>78</td>\n",
       "      <td>mate</td>\n",
       "      <td>black</td>\n",
       "      <td>jamboger</td>\n",
       "      <td>1235</td>\n",
       "      <td>ffbob</td>\n",
       "      <td>1339</td>\n",
       "      <td>d4 d5 Bf4 Na6 e3 e6 c3 Nf6 Nf3 Bd7 Nbd2 b5 Bd3...</td>\n",
       "      <td>D00</td>\n",
       "      <td>Queen's Pawn Game: Mason Attack</td>\n",
       "      <td>3</td>\n",
       "      <td>10</td>\n",
       "      <td>0</td>\n",
       "      <td>Rapid</td>\n",
       "      <td>Average</td>\n",
       "      <td>d4</td>\n",
       "      <td>d5</td>\n",
       "    </tr>\n",
       "  </tbody>\n",
       "</table>\n",
       "</div>"
      ],
      "text/plain": [
       "       rated  turns victory_status winner      white_id  white_rating  \\\n",
       "20053   True     24         resign  white       belcolt          1691   \n",
       "20054   True     82           mate  black      jamboger          1233   \n",
       "20055   True     35           mate  white      jamboger          1219   \n",
       "20056   True    109         resign  white  marcodisogno          1360   \n",
       "20057   True     78           mate  black      jamboger          1235   \n",
       "\n",
       "                 black_id  black_rating  \\\n",
       "20053            jamboger          1220   \n",
       "20054  farrukhasomiddinov          1196   \n",
       "20055        schaaksmurf3          1286   \n",
       "20056            jamboger          1227   \n",
       "20057               ffbob          1339   \n",
       "\n",
       "                                                   moves opening_eco  \\\n",
       "20053  d4 f5 e3 e6 Nf3 Nf6 Nc3 b6 Be2 Bb7 O-O Be7 Ne5...         A80   \n",
       "20054  d4 d6 Bf4 e5 Bg3 Nf6 e3 exd4 exd4 d5 c3 Bd6 Bd...         A41   \n",
       "20055  d4 d5 Bf4 Nc6 e3 Nf6 c3 e6 Nf3 Be7 Bd3 O-O Nbd...         D00   \n",
       "20056  e4 d6 d4 Nf6 e5 dxe5 dxe5 Qxd1+ Kxd1 Nd5 c4 Nb...         B07   \n",
       "20057  d4 d5 Bf4 Na6 e3 e6 c3 Nf6 Nf3 Bd7 Nbd2 b5 Bd3...         D00   \n",
       "\n",
       "                          opening_name  opening_ply  time(min)  \\\n",
       "20053                    Dutch Defense            2         10   \n",
       "20054                     Queen's Pawn            2         10   \n",
       "20055  Queen's Pawn Game: Mason Attack            3         10   \n",
       "20056                     Pirc Defense            4         10   \n",
       "20057  Queen's Pawn Game: Mason Attack            3         10   \n",
       "\n",
       "       increment(sec) games_type players_lvl wFirst_move bFirst_move  \n",
       "20053              10      Rapid    Advanced          d4          f5  \n",
       "20054               0      Rapid     Average          d4          d6  \n",
       "20055               0      Rapid     Average          d4          d5  \n",
       "20056               0      Rapid     Average          e4          d6  \n",
       "20057               0      Rapid     Average          d4          d5  "
      ]
     },
     "execution_count": 30,
     "metadata": {},
     "output_type": "execute_result"
    }
   ],
   "source": [
    "games.tail()"
   ]
  },
  {
   "cell_type": "code",
   "execution_count": 31,
   "id": "ac825f3f",
   "metadata": {},
   "outputs": [
    {
     "data": {
      "text/html": [
       "<div>\n",
       "<style scoped>\n",
       "    .dataframe tbody tr th:only-of-type {\n",
       "        vertical-align: middle;\n",
       "    }\n",
       "\n",
       "    .dataframe tbody tr th {\n",
       "        vertical-align: top;\n",
       "    }\n",
       "\n",
       "    .dataframe thead th {\n",
       "        text-align: right;\n",
       "    }\n",
       "</style>\n",
       "<table border=\"1\" class=\"dataframe\">\n",
       "  <thead>\n",
       "    <tr style=\"text-align: right;\">\n",
       "      <th></th>\n",
       "      <th>rated</th>\n",
       "      <th>turns</th>\n",
       "      <th>victory_status</th>\n",
       "      <th>winner</th>\n",
       "      <th>white_id</th>\n",
       "      <th>white_rating</th>\n",
       "      <th>black_id</th>\n",
       "      <th>black_rating</th>\n",
       "      <th>moves</th>\n",
       "      <th>opening_eco</th>\n",
       "      <th>opening_name</th>\n",
       "      <th>opening_ply</th>\n",
       "      <th>time(min)</th>\n",
       "      <th>increment(sec)</th>\n",
       "      <th>games_type</th>\n",
       "      <th>players_lvl</th>\n",
       "      <th>wFirst_move</th>\n",
       "      <th>bFirst_move</th>\n",
       "    </tr>\n",
       "  </thead>\n",
       "  <tbody>\n",
       "    <tr>\n",
       "      <th>7839</th>\n",
       "      <td>False</td>\n",
       "      <td>76</td>\n",
       "      <td>mate</td>\n",
       "      <td>black</td>\n",
       "      <td>anuj-8</td>\n",
       "      <td>1500</td>\n",
       "      <td>behnam2523</td>\n",
       "      <td>1500</td>\n",
       "      <td>e4 e5 Nf3 Nc6 Nc3 g6 Nd5 Bg7 d4 Nxd4 Nxd4 exd4...</td>\n",
       "      <td>C46</td>\n",
       "      <td>Three Knights Opening: Steinitz Defense</td>\n",
       "      <td>6</td>\n",
       "      <td>5</td>\n",
       "      <td>8</td>\n",
       "      <td>Blitz</td>\n",
       "      <td>Average</td>\n",
       "      <td>e4</td>\n",
       "      <td>e5</td>\n",
       "    </tr>\n",
       "  </tbody>\n",
       "</table>\n",
       "</div>"
      ],
      "text/plain": [
       "      rated  turns victory_status winner white_id  white_rating    black_id  \\\n",
       "7839  False     76           mate  black   anuj-8          1500  behnam2523   \n",
       "\n",
       "      black_rating                                              moves  \\\n",
       "7839          1500  e4 e5 Nf3 Nc6 Nc3 g6 Nd5 Bg7 d4 Nxd4 Nxd4 exd4...   \n",
       "\n",
       "     opening_eco                             opening_name  opening_ply  \\\n",
       "7839         C46  Three Knights Opening: Steinitz Defense            6   \n",
       "\n",
       "      time(min)  increment(sec) games_type players_lvl wFirst_move bFirst_move  \n",
       "7839          5               8      Blitz     Average          e4          e5  "
      ]
     },
     "execution_count": 31,
     "metadata": {},
     "output_type": "execute_result"
    }
   ],
   "source": [
    "# Random sample of rows in dataset\n",
    "\n",
    "games.sample()"
   ]
  },
  {
   "cell_type": "code",
   "execution_count": 32,
   "id": "7399909c",
   "metadata": {},
   "outputs": [
    {
     "data": {
      "text/plain": [
       "rated               bool\n",
       "turns              int64\n",
       "victory_status    object\n",
       "winner            object\n",
       "white_id          object\n",
       "white_rating       int64\n",
       "black_id          object\n",
       "black_rating       int64\n",
       "moves             object\n",
       "opening_eco       object\n",
       "opening_name      object\n",
       "opening_ply        int64\n",
       "time(min)          int64\n",
       "increment(sec)     int64\n",
       "games_type        object\n",
       "players_lvl       object\n",
       "wFirst_move       object\n",
       "bFirst_move       object\n",
       "dtype: object"
      ]
     },
     "execution_count": 32,
     "metadata": {},
     "output_type": "execute_result"
    }
   ],
   "source": [
    "# Data type of all columns\n",
    "\n",
    "games.dtypes"
   ]
  },
  {
   "cell_type": "code",
   "execution_count": 33,
   "id": "abb99ef5",
   "metadata": {},
   "outputs": [
    {
     "data": {
      "text/html": [
       "<div>\n",
       "<style scoped>\n",
       "    .dataframe tbody tr th:only-of-type {\n",
       "        vertical-align: middle;\n",
       "    }\n",
       "\n",
       "    .dataframe tbody tr th {\n",
       "        vertical-align: top;\n",
       "    }\n",
       "\n",
       "    .dataframe thead th {\n",
       "        text-align: right;\n",
       "    }\n",
       "</style>\n",
       "<table border=\"1\" class=\"dataframe\">\n",
       "  <thead>\n",
       "    <tr style=\"text-align: right;\">\n",
       "      <th></th>\n",
       "      <th>turns</th>\n",
       "      <th>white_rating</th>\n",
       "      <th>black_rating</th>\n",
       "      <th>opening_ply</th>\n",
       "      <th>time(min)</th>\n",
       "      <th>increment(sec)</th>\n",
       "    </tr>\n",
       "  </thead>\n",
       "  <tbody>\n",
       "    <tr>\n",
       "      <th>count</th>\n",
       "      <td>19084.000000</td>\n",
       "      <td>19084.000000</td>\n",
       "      <td>19084.000000</td>\n",
       "      <td>19084.000000</td>\n",
       "      <td>19084.000000</td>\n",
       "      <td>19084.000000</td>\n",
       "    </tr>\n",
       "    <tr>\n",
       "      <th>mean</th>\n",
       "      <td>61.052033</td>\n",
       "      <td>1591.557221</td>\n",
       "      <td>1586.134511</td>\n",
       "      <td>4.814766</td>\n",
       "      <td>13.681933</td>\n",
       "      <td>5.093377</td>\n",
       "    </tr>\n",
       "    <tr>\n",
       "      <th>std</th>\n",
       "      <td>33.663366</td>\n",
       "      <td>279.909468</td>\n",
       "      <td>281.258145</td>\n",
       "      <td>2.775351</td>\n",
       "      <td>16.667773</td>\n",
       "      <td>13.981718</td>\n",
       "    </tr>\n",
       "    <tr>\n",
       "      <th>min</th>\n",
       "      <td>2.000000</td>\n",
       "      <td>784.000000</td>\n",
       "      <td>791.000000</td>\n",
       "      <td>1.000000</td>\n",
       "      <td>0.000000</td>\n",
       "      <td>0.000000</td>\n",
       "    </tr>\n",
       "    <tr>\n",
       "      <th>25%</th>\n",
       "      <td>37.000000</td>\n",
       "      <td>1400.000000</td>\n",
       "      <td>1394.000000</td>\n",
       "      <td>3.000000</td>\n",
       "      <td>10.000000</td>\n",
       "      <td>0.000000</td>\n",
       "    </tr>\n",
       "    <tr>\n",
       "      <th>50%</th>\n",
       "      <td>56.000000</td>\n",
       "      <td>1565.000000</td>\n",
       "      <td>1560.000000</td>\n",
       "      <td>4.000000</td>\n",
       "      <td>10.000000</td>\n",
       "      <td>0.000000</td>\n",
       "    </tr>\n",
       "    <tr>\n",
       "      <th>75%</th>\n",
       "      <td>79.000000</td>\n",
       "      <td>1783.000000</td>\n",
       "      <td>1775.000000</td>\n",
       "      <td>6.000000</td>\n",
       "      <td>15.000000</td>\n",
       "      <td>7.000000</td>\n",
       "    </tr>\n",
       "    <tr>\n",
       "      <th>max</th>\n",
       "      <td>349.000000</td>\n",
       "      <td>2622.000000</td>\n",
       "      <td>2588.000000</td>\n",
       "      <td>28.000000</td>\n",
       "      <td>180.000000</td>\n",
       "      <td>180.000000</td>\n",
       "    </tr>\n",
       "  </tbody>\n",
       "</table>\n",
       "</div>"
      ],
      "text/plain": [
       "              turns  white_rating  black_rating   opening_ply     time(min)  \\\n",
       "count  19084.000000  19084.000000  19084.000000  19084.000000  19084.000000   \n",
       "mean      61.052033   1591.557221   1586.134511      4.814766     13.681933   \n",
       "std       33.663366    279.909468    281.258145      2.775351     16.667773   \n",
       "min        2.000000    784.000000    791.000000      1.000000      0.000000   \n",
       "25%       37.000000   1400.000000   1394.000000      3.000000     10.000000   \n",
       "50%       56.000000   1565.000000   1560.000000      4.000000     10.000000   \n",
       "75%       79.000000   1783.000000   1775.000000      6.000000     15.000000   \n",
       "max      349.000000   2622.000000   2588.000000     28.000000    180.000000   \n",
       "\n",
       "       increment(sec)  \n",
       "count    19084.000000  \n",
       "mean         5.093377  \n",
       "std         13.981718  \n",
       "min          0.000000  \n",
       "25%          0.000000  \n",
       "50%          0.000000  \n",
       "75%          7.000000  \n",
       "max        180.000000  "
      ]
     },
     "execution_count": 33,
     "metadata": {},
     "output_type": "execute_result"
    }
   ],
   "source": [
    "# Statictics for every numeric column-\n",
    "\n",
    "games.describe()"
   ]
  },
  {
   "cell_type": "code",
   "execution_count": 34,
   "id": "fdc27ddc",
   "metadata": {},
   "outputs": [
    {
     "data": {
      "text/html": [
       "<div>\n",
       "<style scoped>\n",
       "    .dataframe tbody tr th:only-of-type {\n",
       "        vertical-align: middle;\n",
       "    }\n",
       "\n",
       "    .dataframe tbody tr th {\n",
       "        vertical-align: top;\n",
       "    }\n",
       "\n",
       "    .dataframe thead th {\n",
       "        text-align: right;\n",
       "    }\n",
       "</style>\n",
       "<table border=\"1\" class=\"dataframe\">\n",
       "  <thead>\n",
       "    <tr style=\"text-align: right;\">\n",
       "      <th></th>\n",
       "      <th>rated</th>\n",
       "      <th>turns</th>\n",
       "      <th>white_rating</th>\n",
       "      <th>black_rating</th>\n",
       "      <th>opening_ply</th>\n",
       "      <th>time(min)</th>\n",
       "      <th>increment(sec)</th>\n",
       "    </tr>\n",
       "  </thead>\n",
       "  <tbody>\n",
       "    <tr>\n",
       "      <th>rated</th>\n",
       "      <td>1.000000</td>\n",
       "      <td>0.088502</td>\n",
       "      <td>0.043755</td>\n",
       "      <td>0.053061</td>\n",
       "      <td>0.004279</td>\n",
       "      <td>-0.103235</td>\n",
       "      <td>-0.083783</td>\n",
       "    </tr>\n",
       "    <tr>\n",
       "      <th>turns</th>\n",
       "      <td>0.088502</td>\n",
       "      <td>1.000000</td>\n",
       "      <td>0.149364</td>\n",
       "      <td>0.164329</td>\n",
       "      <td>0.050565</td>\n",
       "      <td>-0.055151</td>\n",
       "      <td>-0.057017</td>\n",
       "    </tr>\n",
       "    <tr>\n",
       "      <th>white_rating</th>\n",
       "      <td>0.043755</td>\n",
       "      <td>0.149364</td>\n",
       "      <td>1.000000</td>\n",
       "      <td>0.759872</td>\n",
       "      <td>0.279778</td>\n",
       "      <td>-0.074636</td>\n",
       "      <td>-0.035504</td>\n",
       "    </tr>\n",
       "    <tr>\n",
       "      <th>black_rating</th>\n",
       "      <td>0.053061</td>\n",
       "      <td>0.164329</td>\n",
       "      <td>0.759872</td>\n",
       "      <td>1.000000</td>\n",
       "      <td>0.271025</td>\n",
       "      <td>-0.076858</td>\n",
       "      <td>-0.034227</td>\n",
       "    </tr>\n",
       "    <tr>\n",
       "      <th>opening_ply</th>\n",
       "      <td>0.004279</td>\n",
       "      <td>0.050565</td>\n",
       "      <td>0.279778</td>\n",
       "      <td>0.271025</td>\n",
       "      <td>1.000000</td>\n",
       "      <td>-0.030881</td>\n",
       "      <td>-0.018035</td>\n",
       "    </tr>\n",
       "    <tr>\n",
       "      <th>time(min)</th>\n",
       "      <td>-0.103235</td>\n",
       "      <td>-0.055151</td>\n",
       "      <td>-0.074636</td>\n",
       "      <td>-0.076858</td>\n",
       "      <td>-0.030881</td>\n",
       "      <td>1.000000</td>\n",
       "      <td>0.473647</td>\n",
       "    </tr>\n",
       "    <tr>\n",
       "      <th>increment(sec)</th>\n",
       "      <td>-0.083783</td>\n",
       "      <td>-0.057017</td>\n",
       "      <td>-0.035504</td>\n",
       "      <td>-0.034227</td>\n",
       "      <td>-0.018035</td>\n",
       "      <td>0.473647</td>\n",
       "      <td>1.000000</td>\n",
       "    </tr>\n",
       "  </tbody>\n",
       "</table>\n",
       "</div>"
      ],
      "text/plain": [
       "                   rated     turns  white_rating  black_rating  opening_ply  \\\n",
       "rated           1.000000  0.088502      0.043755      0.053061     0.004279   \n",
       "turns           0.088502  1.000000      0.149364      0.164329     0.050565   \n",
       "white_rating    0.043755  0.149364      1.000000      0.759872     0.279778   \n",
       "black_rating    0.053061  0.164329      0.759872      1.000000     0.271025   \n",
       "opening_ply     0.004279  0.050565      0.279778      0.271025     1.000000   \n",
       "time(min)      -0.103235 -0.055151     -0.074636     -0.076858    -0.030881   \n",
       "increment(sec) -0.083783 -0.057017     -0.035504     -0.034227    -0.018035   \n",
       "\n",
       "                time(min)  increment(sec)  \n",
       "rated           -0.103235       -0.083783  \n",
       "turns           -0.055151       -0.057017  \n",
       "white_rating    -0.074636       -0.035504  \n",
       "black_rating    -0.076858       -0.034227  \n",
       "opening_ply     -0.030881       -0.018035  \n",
       "time(min)        1.000000        0.473647  \n",
       "increment(sec)   0.473647        1.000000  "
      ]
     },
     "execution_count": 34,
     "metadata": {},
     "output_type": "execute_result"
    }
   ],
   "source": [
    "games.corr(numeric_only = True)"
   ]
  },
  {
   "cell_type": "code",
   "execution_count": 35,
   "id": "c14a2f1f",
   "metadata": {},
   "outputs": [
    {
     "data": {
      "text/plain": [
       "rated\n",
       "True     15620\n",
       "False     3464\n",
       "Name: count, dtype: int64"
      ]
     },
     "execution_count": 35,
     "metadata": {},
     "output_type": "execute_result"
    }
   ],
   "source": [
    "# Number of rated and casual games\n",
    "\n",
    "games['rated'].value_counts()"
   ]
  },
  {
   "cell_type": "code",
   "execution_count": 36,
   "id": "09339e02",
   "metadata": {},
   "outputs": [
    {
     "data": {
      "text/plain": [
       "array(['outoftime', 'resign', 'mate', 'draw'], dtype=object)"
      ]
     },
     "execution_count": 36,
     "metadata": {},
     "output_type": "execute_result"
    }
   ],
   "source": [
    "# How a games can end\n",
    "\n",
    "games['victory_status'].unique()"
   ]
  },
  {
   "cell_type": "code",
   "execution_count": 37,
   "id": "76f53d15",
   "metadata": {},
   "outputs": [
    {
     "data": {
      "text/plain": [
       "winner\n",
       "white    9494\n",
       "black    8671\n",
       "draw      919\n",
       "Name: count, dtype: int64"
      ]
     },
     "execution_count": 37,
     "metadata": {},
     "output_type": "execute_result"
    }
   ],
   "source": [
    "# Number of games won by white or black o ended as a draw\n",
    "\n",
    "games['winner'].value_counts()"
   ]
  },
  {
   "cell_type": "code",
   "execution_count": 38,
   "id": "464f5454",
   "metadata": {},
   "outputs": [
    {
     "data": {
      "text/plain": [
       "games_type\n",
       "Rapid      14018\n",
       "Blitz       3771\n",
       "Classic     1179\n",
       "Bullet       116\n",
       "Name: count, dtype: int64"
      ]
     },
     "execution_count": 38,
     "metadata": {},
     "output_type": "execute_result"
    }
   ],
   "source": [
    "# Format of game played the most\n",
    "\n",
    "games['games_type'].value_counts()"
   ]
  },
  {
   "cell_type": "code",
   "execution_count": 39,
   "id": "9876faef",
   "metadata": {},
   "outputs": [
    {
     "data": {
      "text/plain": [
       "361"
      ]
     },
     "execution_count": 39,
     "metadata": {},
     "output_type": "execute_result"
    }
   ],
   "source": [
    "# How many opening_eco codes in dataset\n",
    "\n",
    "games['opening_eco'].nunique()"
   ]
  },
  {
   "cell_type": "code",
   "execution_count": 40,
   "id": "7cab5141",
   "metadata": {},
   "outputs": [
    {
     "data": {
      "text/plain": [
       "1447"
      ]
     },
     "execution_count": 40,
     "metadata": {},
     "output_type": "execute_result"
    }
   ],
   "source": [
    "# How many openings used in all games\n",
    "\n",
    "games['opening_name'].nunique()"
   ]
  },
  {
   "cell_type": "code",
   "execution_count": null,
   "id": "0d80e108",
   "metadata": {},
   "outputs": [],
   "source": []
  },
  {
   "cell_type": "markdown",
   "id": "dc932c75",
   "metadata": {},
   "source": [
    "# Dats Analysis"
   ]
  },
  {
   "cell_type": "markdown",
   "id": "98ae10ca",
   "metadata": {},
   "source": [
    "# What percentage of games won by white or black"
   ]
  },
  {
   "cell_type": "code",
   "execution_count": 41,
   "id": "e8b9500c",
   "metadata": {},
   "outputs": [
    {
     "data": {
      "image/png": "[encoded data removed]",
      "text/plain": [
       "<Figure size 640x480 with 1 Axes>"
      ]
     },
     "metadata": {},
     "output_type": "display_data"
    }
   ],
   "source": [
    "labels = ['White', 'Black', 'Draw']\n",
    "plt.pie(games['winner'].value_counts(), labels = labels,\n",
    "     autopct = '%1.2f', explode = [0.02,0.02,0.02],  startangle = 30)\n",
    "plt.title('Percentage of game winners')\n",
    "plt.show()\n",
    "\n"
   ]
  },
  {
   "cell_type": "code",
   "execution_count": null,
   "id": "8972d149",
   "metadata": {},
   "outputs": [],
   "source": []
  },
  {
   "cell_type": "markdown",
   "id": "8be611a2",
   "metadata": {},
   "source": [
    "# How many games ended in a draw-"
   ]
  },
  {
   "cell_type": "code",
   "execution_count": 42,
   "id": "025c941e",
   "metadata": {},
   "outputs": [
    {
     "name": "stdout",
     "output_type": "stream",
     "text": [
      "winner\n",
      "white    9494\n",
      "black    8671\n",
      "draw      919\n",
      "Name: count, dtype: int64\n"
     ]
    },
    {
     "data": {
      "image/png": "[encoded data removed]",
      "text/plain": [
       "<Figure size 640x480 with 1 Axes>"
      ]
     },
     "metadata": {},
     "output_type": "display_data"
    }
   ],
   "source": [
    "print(games['winner'].value_counts())\n",
    "sns.countplot(data = games, y = 'winner', palette = 'colorblind')\n",
    "plt.ylabel('Winner')\n",
    "plt.xlabel('No. of games')\n",
    "plt.title('Games results of each color')\n",
    "plt.show()"
   ]
  },
  {
   "cell_type": "code",
   "execution_count": null,
   "id": "e117a9c6",
   "metadata": {},
   "outputs": [],
   "source": []
  },
  {
   "cell_type": "markdown",
   "id": "ad921028",
   "metadata": {},
   "source": [
    "# What is the most frequent used response move for black in games it won"
   ]
  },
  {
   "cell_type": "code",
   "execution_count": 51,
   "id": "686cdb0a",
   "metadata": {},
   "outputs": [
    {
     "data": {
      "text/plain": [
       "0        False\n",
       "1        False\n",
       "2        False\n",
       "3        False\n",
       "4        False\n",
       "         ...  \n",
       "20053    False\n",
       "20054    False\n",
       "20055    False\n",
       "20056    False\n",
       "20057    False\n",
       "Name: winner, Length: 19084, dtype: bool"
      ]
     },
     "execution_count": 51,
     "metadata": {},
     "output_type": "execute_result"
    }
   ],
   "source": [
    "games['winner'] == 'Black'"
   ]
  },
  {
   "cell_type": "code",
   "execution_count": 53,
   "id": "2c1323c4",
   "metadata": {},
   "outputs": [
    {
     "data": {
      "image/png": "[encoded data removed]",
      "text/plain": [
       "<Figure size 640x480 with 1 Axes>"
      ]
     },
     "metadata": {},
     "output_type": "display_data"
    }
   ],
   "source": [
    "black_winner_games = games[games['winner'] == 'black']\n",
    "sns.countplot(x = 'bFirst_move', data = black_winner_games, palette = 'colorblind')\n",
    "plt.xlabel('First move')\n",
    "plt.ylabel('Number of games')\n",
    "plt.title('Response moves for black pieces')\n",
    "plt.show()"
   ]
  },
  {
   "cell_type": "markdown",
   "id": "d028b100",
   "metadata": {},
   "source": [
    "# What is the most frequent used response move for white in games it won"
   ]
  },
  {
   "cell_type": "code",
   "execution_count": 55,
   "id": "b09b54d8",
   "metadata": {},
   "outputs": [
    {
     "data": {
      "image/png": "[encoded data removed]",
      "text/plain": [
       "<Figure size 640x480 with 1 Axes>"
      ]
     },
     "metadata": {},
     "output_type": "display_data"
    }
   ],
   "source": [
    "white_won_games = games[games['winner'] == 'white']\n",
    "sns.countplot(x = 'wFirst_move', data = white_won_games, palette = 'colorblind')\n",
    "plt.xlabel('First move')\n",
    "plt.ylabel('Number of games')\n",
    "plt.title('Opening moves for white peices in which it won ')\n",
    "plt.show()"
   ]
  },
  {
   "cell_type": "markdown",
   "id": "71220aa3",
   "metadata": {},
   "source": [
    "# Does the higher rated player always win ?"
   ]
  },
  {
   "cell_type": "code",
   "execution_count": 56,
   "id": "faaffd9d",
   "metadata": {},
   "outputs": [],
   "source": [
    "# Adding new column with boolean values if the higher rated player always win\n",
    "\n",
    "def condition(row):\n",
    "    if (row['black_rating'] > row['white_rating']) and row['winner'] == 'black' or (row['white_rating'] > row['black_rating'] and row['winner'] == 'white'):\n",
    "        return True\n",
    "    else:\n",
    "        return False\n",
    "\n",
    "games['higher_rated_win'] = games.apply(lambda row : condition(row), axis = 1)"
   ]
  },
  {
   "cell_type": "markdown",
   "id": "5bc7dc8e",
   "metadata": {},
   "source": [
    "This is giving you error becasue of the layout of our \n",
    "subplots or figure we will use matplotlib to control the placement"
   ]
  },
  {
   "cell_type": "code",
   "execution_count": null,
   "id": "5f20a789",
   "metadata": {},
   "outputs": [],
   "source": []
  },
  {
   "cell_type": "code",
   "execution_count": 66,
   "id": "ee27b715",
   "metadata": {},
   "outputs": [
    {
     "data": {
      "image/png": "[encoded data removed]",
      "text/plain": [
       "<Figure size 1000x500 with 2 Axes>"
      ]
     },
     "metadata": {},
     "output_type": "display_data"
    }
   ],
   "source": [
    "# Create a fig with two subplots ---\n",
    "fig, ax = plt.subplots(1, 2, figsize= (10,5))\n",
    "\n",
    "# First subplot : Countplot\n",
    "sns.countplot(data = games, x = 'higher_rated_win', hue = 'winner', palette = 'colorblind')\n",
    "ax[0].set_xlabel('Did the higher rated player win the game (With black and white pieces) ?')\n",
    "ax[0].set_ylabel('Number of games')\n",
    "\n",
    "\n",
    "# Second subplot : Pie chart\n",
    "\n",
    "ax[1].pie(games['higher_rated_win'].value_counts(), labels = ['True', 'False'], \n",
    "               autopct = '%1.2f', startangle = 30)\n",
    "ax[1].set_title('Percentage of games won by the higher rated player')\n",
    "plt.show()"
   ]
  },
  {
   "cell_type": "code",
   "execution_count": 74,
   "id": "f91163b5",
   "metadata": {},
   "outputs": [
    {
     "data": {
      "image/png": "[encoded data removed]",
      "text/plain": [
       "<Figure size 600x400 with 1 Axes>"
      ]
     },
     "metadata": {},
     "output_type": "display_data"
    },
    {
     "data": {
      "image/png": "[encoded data removed]",
      "text/plain": [
       "<Figure size 600x400 with 1 Axes>"
      ]
     },
     "metadata": {},
     "output_type": "display_data"
    }
   ],
   "source": [
    "fig1, ax1 = plt.subplots(figsize=(6, 4))\n",
    "sns.countplot(data=games, x='higher_rated_win',hue='winner',  palette='Set1', ax=ax1)\n",
    "ax1.set_title('Games Won/Lost by Higher-Rated Player')\n",
    "ax1.set_xlabel('Higher Rated Player Win?')\n",
    "ax1.set_ylabel('Number of Games')\n",
    "\n",
    "# Create the second figure and subplot\n",
    "fig2, ax2 = plt.subplots(figsize=(6, 4))\n",
    "games_pie = games['higher_rated_win'].value_counts()\n",
    "ax2.pie(games_pie, labels=['True', 'False'], autopct='%1.2f%%', startangle=90)\n",
    "ax2.set_title('Percentage of Games Won by the Higher Rated Player')\n",
    "\n",
    "plt.show()\n"
   ]
  },
  {
   "cell_type": "code",
   "execution_count": null,
   "id": "17815d12",
   "metadata": {},
   "outputs": [],
   "source": []
  },
  {
   "cell_type": "markdown",
   "id": "4cc432ca",
   "metadata": {},
   "source": [
    "# Who is the most winning user and was he/she the highest rated player"
   ]
  },
  {
   "cell_type": "code",
   "execution_count": 75,
   "id": "6ac3081b",
   "metadata": {},
   "outputs": [],
   "source": [
    "# Adding new cloumn with id of the winning player of the game\n",
    "\n",
    "def condition2(row):\n",
    "    if row['winner'] == 'black':\n",
    "        return row['black_id']\n",
    "    elif row['winner'] == 'white':\n",
    "        return row['white_id']\n",
    "    else:\n",
    "        return 'No Winner'\n",
    "\n",
    "games['winner_Id'] = games.apply(lambda row : condition2(row), axis =1)"
   ]
  },
  {
   "cell_type": "code",
   "execution_count": null,
   "id": "5221cce5",
   "metadata": {},
   "outputs": [],
   "source": []
  },
  {
   "cell_type": "code",
   "execution_count": null,
   "id": "c460dbf6",
   "metadata": {},
   "outputs": [],
   "source": []
  }
 ],
 "metadata": {
  "kernelspec": {
   "display_name": "Python 3 (ipykernel)",
   "language": "python",
   "name": "python3"
  },
  "language_info": {
   "codemirror_mode": {
    "name": "ipython",
    "version": 3
   },
   "file_extension": ".py",
   "mimetype": "text/x-python",
   "name": "python",
   "nbconvert_exporter": "python",
   "pygments_lexer": "ipython3",
   "version": "3.11.5"
  }
 },
 "nbformat": 4,
 "nbformat_minor": 5
}
